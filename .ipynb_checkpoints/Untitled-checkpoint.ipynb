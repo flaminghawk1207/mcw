{
 "cells": [
  {
   "cell_type": "code",
   "execution_count": null,
   "id": "b184ec6c",
   "metadata": {},
   "outputs": [],
   "source": [
    "import pandas as pd\n",
    "import numpy as np"
   ]
  },
  {
   "cell_type": "code",
   "execution_count": null,
   "id": "ea5ec293",
   "metadata": {},
   "outputs": [],
   "source": [
    "import open3d as o3d"
   ]
  },
  {
   "cell_type": "markdown",
   "id": "3f6f699e",
   "metadata": {},
   "source": [
    "# Lidar point cloud data visualization"
   ]
  },
  {
   "cell_type": "code",
   "execution_count": null,
   "id": "9c71d1be",
   "metadata": {},
   "outputs": [],
   "source": [
    "pc_txt=np.loadtxt('indoor/scans/scan0001.txt',delimiter=' ',skiprows=1)"
   ]
  },
  {
   "cell_type": "code",
   "execution_count": null,
   "id": "29839bf6",
   "metadata": {},
   "outputs": [],
   "source": [
    "pc_txt"
   ]
  },
  {
   "cell_type": "code",
   "execution_count": null,
   "id": "4b42c78e",
   "metadata": {},
   "outputs": [],
   "source": [
    "points=pc_txt[:,:3]"
   ]
  },
  {
   "cell_type": "code",
   "execution_count": null,
   "id": "96d8fa01",
   "metadata": {},
   "outputs": [],
   "source": [
    "pcd=o3d.geometry.PointCloud()"
   ]
  },
  {
   "cell_type": "code",
   "execution_count": null,
   "id": "156c862d",
   "metadata": {},
   "outputs": [],
   "source": [
    "pcd.points=o3d.utility.Vector3dVector(points)"
   ]
  },
  {
   "cell_type": "code",
   "execution_count": null,
   "id": "712d59b8",
   "metadata": {},
   "outputs": [],
   "source": [
    "o3d.visualization.draw_geometries([pcd])"
   ]
  },
  {
   "cell_type": "code",
   "execution_count": null,
   "id": "d83571c0",
   "metadata": {},
   "outputs": [],
   "source": [
    "pc_txt.shape"
   ]
  },
  {
   "cell_type": "markdown",
   "id": "9a27dc70",
   "metadata": {},
   "source": [
    "# checking for Null values:"
   ]
  },
  {
   "cell_type": "code",
   "execution_count": null,
   "id": "4b2096a3",
   "metadata": {},
   "outputs": [],
   "source": [
    "np.isnan(pc_txt).sum()"
   ]
  },
  {
   "cell_type": "code",
   "execution_count": null,
   "id": "19155bf5",
   "metadata": {},
   "outputs": [],
   "source": [
    "#this function finds the outliers in the data and visualizes the point cloud data by showing \n",
    "#the \n",
    "def display_inlier_outlier(cloud, ind):\n",
    "    inlier_cloud = cloud.select_by_index(ind)\n",
    "    outlier_cloud = cloud.select_by_index(ind, invert=True)\n",
    "\n",
    "    print(\"Showing outliers (red) and inliers (gray): \")\n",
    "    outlier_cloud.paint_uniform_color([1, 0, 0])\n",
    "    inlier_cloud.paint_uniform_color([0.8, 0.8, 0.8])\n",
    "    o3d.visualization.draw_geometries([inlier_cloud, outlier_cloud])"
   ]
  },
  {
   "cell_type": "markdown",
   "id": "7f1e9e4c",
   "metadata": {},
   "source": [
    "#  Statistical Outliers:"
   ]
  },
  {
   "cell_type": "code",
   "execution_count": null,
   "id": "5c75e6eb",
   "metadata": {},
   "outputs": [],
   "source": [
    "cl,ind=pcd.remove_statistical_outlier(nb_neighbors=20,std_ratio=2.0)\n",
    "display_inlier_outlier(pcd,ind)"
   ]
  },
  {
   "cell_type": "markdown",
   "id": "f4952dc8",
   "metadata": {},
   "source": [
    "# Radius Outliers:"
   ]
  },
  {
   "cell_type": "code",
   "execution_count": null,
   "id": "de1e5d11",
   "metadata": {},
   "outputs": [],
   "source": [
    "cl,ind=pcd.remove_radius_outlier(nb_points=16,radius=0.5)\n",
    "display_inlier_outlier(pcd,ind)"
   ]
  },
  {
   "cell_type": "markdown",
   "id": "442e4346",
   "metadata": {},
   "source": [
    "# Removing Multiple points:"
   ]
  },
  {
   "cell_type": "code",
   "execution_count": null,
   "id": "c799cc0e",
   "metadata": {},
   "outputs": [],
   "source": [
    "pcd=pcd.remove_duplicated_points()"
   ]
  },
  {
   "cell_type": "code",
   "execution_count": null,
   "id": "090f3570",
   "metadata": {},
   "outputs": [],
   "source": [
    "pcd"
   ]
  },
  {
   "cell_type": "code",
   "execution_count": null,
   "id": "85d5462d",
   "metadata": {},
   "outputs": [],
   "source": []
  }
 ],
 "metadata": {
  "kernelspec": {
   "display_name": "Python 3 (ipykernel)",
   "language": "python",
   "name": "python3"
  },
  "language_info": {
   "codemirror_mode": {
    "name": "ipython",
    "version": 3
   },
   "file_extension": ".py",
   "mimetype": "text/x-python",
   "name": "python",
   "nbconvert_exporter": "python",
   "pygments_lexer": "ipython3",
   "version": "3.7.16"
  }
 },
 "nbformat": 4,
 "nbformat_minor": 5
}
